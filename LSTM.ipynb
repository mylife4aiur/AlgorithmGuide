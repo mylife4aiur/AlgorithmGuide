{
 "cells": [
  {
   "cell_type": "code",
   "execution_count": 5,
   "metadata": {
    "collapsed": true
   },
   "outputs": [],
   "source": [
    "import numpy as np\n",
    "import random\n",
    "from random import shuffle\n",
    "import tensorflow as tf"
   ]
  },
  {
   "cell_type": "markdown",
   "metadata": {},
   "source": [
    "生成数据，预测问题为给一个长度为20的01序列，计算含有多少个数字1"
   ]
  },
  {
   "cell_type": "code",
   "execution_count": 6,
   "metadata": {},
   "outputs": [],
   "source": [
    "# Generating the training input data\n",
    "NUM_EXAMPLES = 7000\n",
    "# train_input 最后是一个有NUM_EXAMPLES个数的list\n",
    "# 这里先生成2^15=8192个list，{0：020b},第一个0是第1个参数位置，：是格式限定符，后面代表20位二进制B，以0进行填充\n",
    "TOTAL_NUMBER=2 ** 13\n",
    "train_input = ['{0:020b}'.format(i) for i in range(TOTAL_NUMBER)]\n",
    "# 打乱顺序\n",
    "shuffle(train_input)\n",
    "# 将字符串转化为包含int元素的list\n",
    "train_input = [map(int, i) for i in train_input]\n",
    "# 将得到的list处理成input形式\n",
    "ti = []\n",
    "for i in train_input:\n",
    "    temp_list = []\n",
    "    for j in i:\n",
    "        temp_list.append([j])\n",
    "    ti.append(np.array(temp_list))\n",
    "train_input = ti\n",
    "\n",
    "train_output = []\n",
    "for i in train_input:\n",
    "    count = 0\n",
    "    for j in i:\n",
    "        if j[0] == 1:\n",
    "            count += 1\n",
    "    # one hot vector\n",
    "    temp_list = ([0] * 21)\n",
    "    temp_list[count] = 1\n",
    "    train_output.append(temp_list)"
   ]
  },
  {
   "cell_type": "code",
   "execution_count": 7,
   "metadata": {},
   "outputs": [],
   "source": [
    "# 选取前NUM_EXAMPLES个数据作为训练集，其余作为测试集\n",
    "test_input = train_input[NUM_EXAMPLES:]\n",
    "test_output = train_output[NUM_EXAMPLES:]\n",
    "train_input = train_input[:NUM_EXAMPLES]\n",
    "train_output = train_output[:NUM_EXAMPLES]"
   ]
  },
  {
   "cell_type": "markdown",
   "metadata": {},
   "source": [
    "建立computation graph"
   ]
  },
  {
   "cell_type": "code",
   "execution_count": 8,
   "metadata": {},
   "outputs": [
    {
     "name": "stderr",
     "output_type": "stream",
     "text": [
      "c:\\users\\yang\\appdata\\local\\programs\\python\\python35\\lib\\site-packages\\tensorflow\\python\\ops\\gradients_impl.py:91: UserWarning: Converting sparse IndexedSlices to a dense Tensor of unknown shape. This may consume a large amount of memory.\n  \"Converting sparse IndexedSlices to a dense Tensor of unknown shape. \"\n"
     ]
    }
   ],
   "source": [
    "# The dimensions for data are [Batch Size, Sequence Length, Input Dimension]\n",
    "data = tf.placeholder(tf.float32, [None, 20, 1])  # Number of examples, number of input in one batch, dimension of each input\n",
    "target = tf.placeholder(tf.float32, [None, 21]) # 所预测标签的维度\n",
    "\n",
    "# Creat the LSTM cell\n",
    "# value for the hidden dimension, or the number of units in the LSTM cell\n",
    "num_hidden = 24\n",
    "\n",
    "cell = tf.contrib.rnn.LSTMCell(num_hidden, state_is_tuple=True)\n",
    "# 注意到这里传入的数据是一个batch，将输出存入val，将The final cell state存入state:\n",
    "val, state = tf.nn.dynamic_rnn(cell, data, dtype=tf.float32)\n",
    "# 对val做转置，只交换0,1两个维度\n",
    "val = tf.transpose(val, [1, 0, 2])\n",
    "# 这样只取最后一行就能得到最后一次输入后的值\n",
    "last = tf.gather(val, int(val.get_shape()[0]) - 1)\n",
    "\n",
    "# 将输出的last的value做一个线性函数拟合输出的标签值\n",
    "# 初值为截断正态分布的变量\n",
    "weight = tf.Variable(tf.truncated_normal([num_hidden, int(target.get_shape()[1])]))\n",
    "# 初值为0.1的偏置项\n",
    "bias = tf.Variable(tf.constant(0.1, shape=[target.get_shape()[1]]))\n",
    "\n",
    "prediction = tf.nn.softmax(tf.matmul(last, weight) + bias)\n",
    "cross_entropy = -tf.reduce_sum(target * tf.log(tf.clip_by_value(prediction, 1e-10, 1.0)))\n",
    "optimizer = tf.train.AdamOptimizer()\n",
    "\n",
    "# WARNING\n",
    "minimize = optimizer.minimize(cross_entropy)\n",
    "\n",
    "mistakes = tf.not_equal(tf.argmax(target, 1), tf.argmax(prediction, 1))\n",
    "error = tf.reduce_mean(tf.cast(mistakes, tf.float32))\n",
    "\n",
    "init_op = tf.global_variables_initializer()"
   ]
  },
  {
   "cell_type": "markdown",
   "metadata": {},
   "source": [
    "运行100步"
   ]
  },
  {
   "cell_type": "code",
   "execution_count": 9,
   "metadata": {},
   "outputs": [
    {
     "name": "stdout",
     "output_type": "stream",
     "text": [
      "Epoch  0\n"
     ]
    },
    {
     "name": "stdout",
     "output_type": "stream",
     "text": [
      "Epoch  10\n"
     ]
    },
    {
     "name": "stdout",
     "output_type": "stream",
     "text": [
      "Epoch  20\n"
     ]
    },
    {
     "name": "stdout",
     "output_type": "stream",
     "text": [
      "Epoch  30\n"
     ]
    },
    {
     "name": "stdout",
     "output_type": "stream",
     "text": [
      "Epoch  40\n"
     ]
    },
    {
     "name": "stdout",
     "output_type": "stream",
     "text": [
      "Epoch  50\n"
     ]
    },
    {
     "name": "stdout",
     "output_type": "stream",
     "text": [
      "Epoch  60\n"
     ]
    },
    {
     "name": "stdout",
     "output_type": "stream",
     "text": [
      "Epoch  70\n"
     ]
    },
    {
     "name": "stdout",
     "output_type": "stream",
     "text": [
      "Epoch  80\n"
     ]
    },
    {
     "name": "stdout",
     "output_type": "stream",
     "text": [
      "Epoch  90\n"
     ]
    }
   ],
   "source": [
    "sess = tf.Session()\n",
    "sess.run(init_op)\n",
    "\n",
    "batch_size = 1000\n",
    "no_of_batches = int (len(train_input) / batch_size)\n",
    "epoch = 100\n",
    "for i in range(epoch):\n",
    "    ptr = 0\n",
    "    for j in range(no_of_batches):\n",
    "        inp, out = train_input[ptr:ptr + batch_size], train_output[ptr:ptr + batch_size]\n",
    "        ptr += batch_size\n",
    "        sess.run(minimize, {data: inp, target: out})\n",
    "    if i % 10==0:\n",
    "        print(\"Epoch \", str(i))"
   ]
  },
  {
   "cell_type": "markdown",
   "metadata": {},
   "source": [
    "测试集误差"
   ]
  },
  {
   "cell_type": "code",
   "execution_count": 10,
   "metadata": {},
   "outputs": [
    {
     "name": "stdout",
     "output_type": "stream",
     "text": [
      "Epoch 100 error 9.6%\n"
     ]
    }
   ],
   "source": [
    "incorrect = sess.run(error, {data: test_input, target: test_output})\n",
    "print('Epoch {:2d} error {:3.1f}%'.format(i + 1, 100 * incorrect))"
   ]
  },
  {
   "cell_type": "markdown",
   "metadata": {},
   "source": [
    "7对应的概率最高，成功预测"
   ]
  },
  {
   "cell_type": "code",
   "execution_count": 11,
   "metadata": {
    "collapsed": false
   },
   "outputs": [
    {
     "name": "stdout",
     "output_type": "stream",
     "text": [
      "[[  3.46713477e-06   6.00579551e-06   2.52224004e-06   1.17098070e-05\n    5.93144941e-05   1.81479764e-03   1.04040489e-01   6.93688273e-01\n    1.89429447e-01   9.84379090e-03   6.06288319e-04   2.67747266e-04\n    2.68845288e-05   1.82004305e-06   1.16824339e-07   8.98250655e-05\n    7.46244586e-06   3.18154093e-07   7.57343832e-06   6.84433180e-05\n    2.36778651e-05]]\n"
     ]
    }
   ],
   "source": [
    "print(sess.run(prediction, {\n",
    "    data: [[[0], [0], [0], [0], [0], [0], [0], [0], [1], [0], [1], [0], [0], [1], [1], [0], [1], [1], [1], [0]]]}))"
   ]
  },
  {
   "cell_type": "code",
   "execution_count": 12,
   "metadata": {},
   "outputs": [],
   "source": [
    "sess.close()"
   ]
  },
  {
   "cell_type": "code",
   "execution_count": null,
   "metadata": {},
   "outputs": [],
   "source": [
    ""
   ]
  }
 ],
 "metadata": {
  "kernelspec": {
   "display_name": "Python 2",
   "language": "python",
   "name": "python2"
  },
  "language_info": {
   "codemirror_mode": {
    "name": "ipython",
    "version": 2.0
   },
   "file_extension": ".py",
   "mimetype": "text/x-python",
   "name": "python",
   "nbconvert_exporter": "python",
   "pygments_lexer": "ipython2",
   "version": "2.7.6"
  }
 },
 "nbformat": 4,
 "nbformat_minor": 0
}